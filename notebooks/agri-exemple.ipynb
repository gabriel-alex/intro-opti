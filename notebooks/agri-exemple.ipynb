{
 "cells": [
  {
   "cell_type": "markdown",
   "metadata": {},
   "source": [
    "# Exemple optimisation surface agricole"
   ]
  },
  {
   "cell_type": "code",
   "execution_count": 1,
   "metadata": {},
   "outputs": [],
   "source": [
    "import pyomo.environ as pyo\n",
    "\n",
    "model = pyo.ConcreteModel()\n"
   ]
  },
  {
   "cell_type": "markdown",
   "metadata": {},
   "source": [
    "## Variables de décision\n",
    "\n",
    "x : surface de courgettes\n",
    "y : surface de navets"
   ]
  },
  {
   "cell_type": "code",
   "execution_count": 2,
   "metadata": {},
   "outputs": [],
   "source": [
    "model.x =pyo.Var(domain=pyo.NonNegativeReals) # courgettes\n",
    "model.y =pyo.Var(domain=pyo.NonNegativeReals) # navets"
   ]
  },
  {
   "cell_type": "markdown",
   "metadata": {},
   "source": [
    "## Fonction objectif"
   ]
  },
  {
   "cell_type": "code",
   "execution_count": 5,
   "metadata": {},
   "outputs": [],
   "source": [
    "\n",
    "# fonction minimisé par defaut, \"sense\" precise que la fonction est a maximiser\n",
    "model.OBJ = pyo.Objective(expr = 4* model.x + 5* model.y, sense=pyo.maximize)\n"
   ]
  },
  {
   "cell_type": "markdown",
   "metadata": {},
   "source": [
    "## Contraintes\n",
    "engrais A: 2x + y <= 8\n",
    "engrais B: x+ 2y <= 7\n",
    "Anti parasite: y<=3\n",
    "\n",
    "pas besoin de fomuler les contraintes de non negativité , elles sont déjà définies dans la declaration des variables de décision "
   ]
  },
  {
   "cell_type": "code",
   "execution_count": 7,
   "metadata": {},
   "outputs": [],
   "source": [
    "\n",
    "model.const_eng_A = pyo.Constraint(expr= 2*model.x + model.y <= 8)\n",
    "model.const_eng_B = pyo.Constraint(expr = model.x + 2*model.y <= 7)\n",
    "model.const_anti_parasite = pyo.Constraint(expr = model.y <= 3)"
   ]
  },
  {
   "cell_type": "markdown",
   "metadata": {},
   "source": [
    "# Optimisation"
   ]
  },
  {
   "cell_type": "code",
   "execution_count": 8,
   "metadata": {},
   "outputs": [
    {
     "name": "stdout",
     "output_type": "stream",
     "text": [
      "GLPSOL--GLPK LP/MIP Solver 5.0\n",
      "Parameter(s) specified in the command line:\n",
      " --write /tmp/tmpso1259j2.glpk.raw --wglp /tmp/tmpq9r0deon.glpk.glp --cpxlp\n",
      " /tmp/tmpuii6xjlt.pyomo.lp\n",
      "Reading problem data from '/tmp/tmpuii6xjlt.pyomo.lp'...\n",
      "4 rows, 3 columns, 6 non-zeros\n",
      "30 lines were read\n",
      "Writing problem data to '/tmp/tmpq9r0deon.glpk.glp'...\n",
      "22 lines were written\n",
      "GLPK Simplex Optimizer 5.0\n",
      "4 rows, 3 columns, 6 non-zeros\n",
      "Preprocessing...\n",
      "2 rows, 2 columns, 4 non-zeros\n",
      "Scaling...\n",
      " A: min|aij| =  1.000e+00  max|aij| =  2.000e+00  ratio =  2.000e+00\n",
      "Problem data seem to be well scaled\n",
      "Constructing initial basis...\n",
      "Size of triangular part is 2\n",
      "*     0: obj =  -0.000000000e+00 inf =   0.000e+00 (2)\n",
      "*     3: obj =   2.200000000e+01 inf =   0.000e+00 (0)\n",
      "OPTIMAL LP SOLUTION FOUND\n",
      "Time used:   0.0 secs\n",
      "Memory used: 0.0 Mb (40412 bytes)\n",
      "Writing basic solution to '/tmp/tmpso1259j2.glpk.raw'...\n",
      "16 lines were written\n",
      "2 Var Declarations\n",
      "    x : Size=1, Index=None\n",
      "        Key  : Lower : Value : Upper : Fixed : Stale : Domain\n",
      "        None :     0 :   3.0 :  None : False : False : NonNegativeReals\n",
      "    y : Size=1, Index=None\n",
      "        Key  : Lower : Value : Upper : Fixed : Stale : Domain\n",
      "        None :     0 :   2.0 :  None : False : False : NonNegativeReals\n",
      "\n",
      "1 Objective Declarations\n",
      "    OBJ : Size=1, Index=None, Active=True\n",
      "        Key  : Active : Sense    : Expression\n",
      "        None :   True : maximize : 4*x + 5*y\n",
      "\n",
      "3 Constraint Declarations\n",
      "    const_anti_parasite : Size=1, Index=None, Active=True\n",
      "        Key  : Lower : Body : Upper : Active\n",
      "        None :  -Inf :    y :   3.0 :   True\n",
      "    const_eng_A : Size=1, Index=None, Active=True\n",
      "        Key  : Lower : Body    : Upper : Active\n",
      "        None :  -Inf : 2*x + y :   8.0 :   True\n",
      "    const_eng_B : Size=1, Index=None, Active=True\n",
      "        Key  : Lower : Body    : Upper : Active\n",
      "        None :  -Inf : x + 2*y :   7.0 :   True\n",
      "\n",
      "6 Declarations: x y OBJ const_eng_A const_eng_B const_anti_parasite\n"
     ]
    }
   ],
   "source": [
    "opt = pyo.SolverFactory('glpk')\n",
    "\n",
    "result_obj = opt.solve(model, tee=True).write()\n",
    "#model.pprint()\n",
    "model.x.display()\n",
    "model.y.display()"
   ]
  }
 ],
 "metadata": {
  "kernelspec": {
   "display_name": "Python 3 (ipykernel)",
   "language": "python",
   "name": "python3"
  },
  "language_info": {
   "codemirror_mode": {
    "name": "ipython",
    "version": 3
   },
   "file_extension": ".py",
   "mimetype": "text/x-python",
   "name": "python",
   "nbconvert_exporter": "python",
   "pygments_lexer": "ipython3",
   "version": "3.10.8"
  }
 },
 "nbformat": 4,
 "nbformat_minor": 4
}
