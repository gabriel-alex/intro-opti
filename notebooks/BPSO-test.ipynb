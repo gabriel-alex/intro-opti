{
 "cells": [
  {
   "cell_type": "code",
   "execution_count": 4,
   "metadata": {},
   "outputs": [
    {
     "name": "stderr",
     "output_type": "stream",
     "text": [
      "2022-01-19 16:07:45,594 - pyswarms.discrete.binary - INFO - Optimize for 100 iters with {'c1': 2.5, 'c2': 2.5, 'w': 0.9, 'k': 30, 'p': 50}\n"
     ]
    },
    {
     "name": "stdout",
     "output_type": "stream",
     "text": [
      "The autoreload extension is already loaded. To reload it, use:\n",
      "  %reload_ext autoreload\n"
     ]
    },
    {
     "name": "stderr",
     "output_type": "stream",
     "text": [
      "pyswarms.discrete.binary: 100%|██████████|100/100, best_cost=0.6\n",
      "2022-01-19 16:07:45,882 - pyswarms.discrete.binary - INFO - Optimization finished | best cost: 0.6000000000000001, best pos: [0 1]\n"
     ]
    }
   ],
   "source": [
    "# Import modules\n",
    "import numpy as np\n",
    "#import seaborn as sns\n",
    "import pandas as pd\n",
    "\n",
    "# Import PySwarms\n",
    "import pyswarms as ps\n",
    "\n",
    "# Some more magic so that the notebook will reload external python modules;\n",
    "# see http://stackoverflow.com/questions/1907993/autoreload-of-modules-in-ipython\n",
    "%load_ext autoreload\n",
    "%autoreload 2\n",
    "%matplotlib inline\n",
    "\n",
    "# Initialize swarm, arbitrary\n",
    "options = {'c1': 2.5, 'c2': 2.5, 'w':0.9, 'k': 30, 'p':50}\n",
    "\n",
    "# Call instance of PSO\n",
    "dimensions = 2\n",
    "#optimizer.reset()\n",
    "optimizer = ps.discrete.BinaryPSO(n_particles=30, dimensions=dimensions, options=options)\n",
    "\n",
    "def objective_function(m, t, applianceMatrix, pgrid, cgrid, pinject, cinject, ppv, cpv ):\n",
    "    timeActivation = t\n",
    "    demand = m * agentActivation * timeActivation * applianceMatrix['powerRating'] * applianceMatrix['duration']\n",
    "    # Pgrig en fonction de dmand\n",
    "\n",
    "\n",
    "    # calculate the value of the power function \n",
    "    return  pgrid * m[:,0] * cgrid - pinject * cinject * m[:,1] + ppv * cpv\n",
    "    return power\n",
    "\n",
    "# Perform optimization\n",
    "cost, pos = optimizer.optimize(objective_function, pgrid = 10, cgrid = 1, pinject = 2, cinject =0.7, ppv = 4, cpv= 0.5, iters=100, verbose=2)"
   ]
  }
 ],
 "metadata": {
  "interpreter": {
   "hash": "00a4ad1f998aa7078f5186ed9a06f4edc85fa1f6495210ba978656c5b94291f1"
  },
  "kernelspec": {
   "display_name": "Python 3.9.10 64-bit (windows store)",
   "language": "python",
   "name": "python3"
  },
  "language_info": {
   "codemirror_mode": {
    "name": "ipython",
    "version": 3
   },
   "file_extension": ".py",
   "mimetype": "text/x-python",
   "name": "python",
   "nbconvert_exporter": "python",
   "pygments_lexer": "ipython3",
   "version": "3.9.10"
  },
  "orig_nbformat": 4
 },
 "nbformat": 4,
 "nbformat_minor": 2
}
