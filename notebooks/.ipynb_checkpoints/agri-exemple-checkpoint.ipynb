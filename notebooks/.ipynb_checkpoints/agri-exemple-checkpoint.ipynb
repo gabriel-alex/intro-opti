{
 "cells": [
  {
   "cell_type": "markdown",
   "metadata": {},
   "source": [
    "# Exemple optimisation surface agricole"
   ]
  },
  {
   "cell_type": "code",
   "execution_count": 1,
   "metadata": {},
   "outputs": [],
   "source": [
    "import pyomo.environ as pyo\n",
    "\n",
    "model = pyo.ConcreteModel()\n"
   ]
  },
  {
   "cell_type": "markdown",
   "metadata": {},
   "source": [
    "## Variables de décision\n",
    "\n",
    "x : surface de courgettes\n",
    "y : surface de navets"
   ]
  },
  {
   "cell_type": "code",
   "execution_count": 2,
   "metadata": {},
   "outputs": [],
   "source": [
    "model.x =pyo.Var(domain=pyo.NonNegativeReals) # courgettes\n",
    "model.y =pyo.Var(domain=pyo.NonNegativeReals) # navets"
   ]
  },
  {
   "cell_type": "markdown",
   "metadata": {},
   "source": [
    "## Fonction objectif"
   ]
  },
  {
   "cell_type": "code",
   "execution_count": 4,
   "metadata": {},
   "outputs": [
    {
     "ename": "NameError",
     "evalue": "name 'maximize' is not defined",
     "output_type": "error",
     "traceback": [
      "\u001b[0;31m---------------------------------------------------------------------------\u001b[0m",
      "\u001b[0;31mNameError\u001b[0m                                 Traceback (most recent call last)",
      "Cell \u001b[0;32mIn[4], line 2\u001b[0m\n\u001b[1;32m      1\u001b[0m \u001b[38;5;66;03m# fonction minimisé par defaut, \"sense\" precise que la fonction est a maximiser\u001b[39;00m\n\u001b[0;32m----> 2\u001b[0m model\u001b[38;5;241m.\u001b[39mOBJ \u001b[38;5;241m=\u001b[39m pyo\u001b[38;5;241m.\u001b[39mObjective(expr \u001b[38;5;241m=\u001b[39m \u001b[38;5;241m4\u001b[39m\u001b[38;5;241m*\u001b[39mmodel\u001b[38;5;241m.\u001b[39mx \u001b[38;5;241m+\u001b[39m \u001b[38;5;241m5\u001b[39m\u001b[38;5;241m*\u001b[39mmodel\u001b[38;5;241m.\u001b[39my, sense\u001b[38;5;241m=\u001b[39m\u001b[43mmaximize\u001b[49m)\n",
      "\u001b[0;31mNameError\u001b[0m: name 'maximize' is not defined"
     ]
    }
   ],
   "source": [
    "\n",
    "# fonction minimisé par defaut, \"sense\" precise que la fonction est a maximiser\n",
    "model.OBJ = pyo.Objective(expr = 4* model.x + 5* model.y, sense=pyo.maximize)\n"
   ]
  },
  {
   "cell_type": "markdown",
   "metadata": {},
   "source": [
    "## Contraintes\n",
    "engrais A: 2x + y <= 8\n",
    "engrais B: x+ 2y <= 7\n",
    "Anti parasite: y<=3\n",
    "\n",
    "pas besoin de fomuler les contraintes de non negativité , elles sont déjà définies dans la declaration des variables de décision "
   ]
  },
  {
   "cell_type": "code",
   "execution_count": null,
   "metadata": {},
   "outputs": [],
   "source": [
    "model.const_eng_A = pyo.Constraint(2*model.x + model.y <= 8)\n",
    "model.const_eng_B = pyo.Constraint(model.x + 2*model.y <= 7)\n",
    "model.const_anti_parasite = pyo.Constraint(model.y <= 3)"
   ]
  },
  {
   "cell_type": "markdown",
   "metadata": {},
   "source": [
    "# Optimisation"
   ]
  },
  {
   "cell_type": "code",
   "execution_count": null,
   "metadata": {},
   "outputs": [],
   "source": [
    "opt = pyo.SolverFactory('glpk')\n",
    "\n",
    "result_obj = opt.solve(model, tee=True)\n",
    "model.pprint()"
   ]
  }
 ],
 "metadata": {
  "kernelspec": {
   "display_name": "Python 3 (ipykernel)",
   "language": "python",
   "name": "python3"
  },
  "language_info": {
   "codemirror_mode": {
    "name": "ipython",
    "version": 3
   },
   "file_extension": ".py",
   "mimetype": "text/x-python",
   "name": "python",
   "nbconvert_exporter": "python",
   "pygments_lexer": "ipython3",
   "version": "3.10.8"
  }
 },
 "nbformat": 4,
 "nbformat_minor": 4
}
